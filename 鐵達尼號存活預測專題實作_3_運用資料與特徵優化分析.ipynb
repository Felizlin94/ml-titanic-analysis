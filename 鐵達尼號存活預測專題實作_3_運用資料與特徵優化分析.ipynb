{
  "nbformat": 4,
  "nbformat_minor": 0,
  "metadata": {
    "colab": {
      "provenance": [],
      "authorship_tag": "ABX9TyMSphZgJduWEi0If1UeGtJC",
      "include_colab_link": true
    },
    "kernelspec": {
      "name": "python3",
      "display_name": "Python 3"
    },
    "language_info": {
      "name": "python"
    }
  },
  "cells": [
    {
      "cell_type": "markdown",
      "metadata": {
        "id": "view-in-github",
        "colab_type": "text"
      },
      "source": [
        "<a href=\"https://colab.research.google.com/github/Felizlin94/ml-titanic-analysis/blob/main/%E9%90%B5%E9%81%94%E5%B0%BC%E8%99%9F%E5%AD%98%E6%B4%BB%E9%A0%90%E6%B8%AC%E5%B0%88%E9%A1%8C%E5%AF%A6%E4%BD%9C_3_%E9%81%8B%E7%94%A8%E8%B3%87%E6%96%99%E8%88%87%E7%89%B9%E5%BE%B5%E5%84%AA%E5%8C%96%E5%88%86%E6%9E%90.ipynb\" target=\"_parent\"><img src=\"https://colab.research.google.com/assets/colab-badge.svg\" alt=\"Open In Colab\"/></a>"
      ]
    },
    {
      "cell_type": "code",
      "execution_count": 48,
      "metadata": {
        "colab": {
          "base_uri": "https://localhost:8080/"
        },
        "id": "bAMT2MvGtIA4",
        "outputId": "2dc4538d-3fd5-4acd-da52-a944e3860e7b"
      },
      "outputs": [
        {
          "output_type": "stream",
          "name": "stdout",
          "text": [
            "   Survived  Pclass   Age     Fare  Family_Size  Sex_female  Sex_male  \\\n",
            "0         0       3  22.0   7.2500            2           0         1   \n",
            "1         1       1  38.0  71.2833            2           1         0   \n",
            "2         1       3  26.0   7.9250            1           1         0   \n",
            "3         1       1  35.0  53.1000            2           1         0   \n",
            "4         0       3  35.0   8.0500            1           0         1   \n",
            "\n",
            "   Embarked_C  Embarked_Q  Embarked_S  Cabin_Category_A  Cabin_Category_B  \\\n",
            "0           0           0           1                 0                 0   \n",
            "1           1           0           0                 0                 0   \n",
            "2           0           0           1                 0                 0   \n",
            "3           0           0           1                 0                 0   \n",
            "4           0           0           1                 0                 0   \n",
            "\n",
            "   Cabin_Category_C  Cabin_Category_D  Cabin_Category_E  Cabin_Category_F  \\\n",
            "0                 0                 0                 0                 0   \n",
            "1                 1                 0                 0                 0   \n",
            "2                 0                 0                 0                 0   \n",
            "3                 1                 0                 0                 0   \n",
            "4                 0                 0                 0                 0   \n",
            "\n",
            "   Cabin_Category_G  Cabin_Category_T  \n",
            "0                 0                 0  \n",
            "1                 0                 0  \n",
            "2                 0                 0  \n",
            "3                 0                 0  \n",
            "4                 0                 0  \n",
            "[0.77094972 0.80337079 0.78651685 0.79213483 0.81460674]\n",
            "Scores: Mean = 0.7935, Std = 0.0148\n"
          ]
        }
      ],
      "source": [
        "import pandas as pd\n",
        "df = pd.read_csv('https://raw.githubusercontent.com/dsindy/kaggle-titanic/master/data/train.csv')\n",
        "\n",
        "from sklearn.impute import SimpleImputer\n",
        "from sklearn.preprocessing import OneHotEncoder, LabelEncoder\n",
        "\n",
        "# Drop unnecessary columns\n",
        "df.drop(['PassengerId', 'Name', 'Ticket'], axis=1, inplace=True)\n",
        "\n",
        "\n",
        "### Comparison of Missing Value Imputation Strategies\n",
        "# Missing value imputation with constant (Scores after some OneHotEncoder conversion: Mean = 0.7845, Std = 0.0231)\n",
        "# imputer_age_constant = SimpleImputer(strategy='constant', fill_value=-1)\n",
        "# imputer_embarked_constant = SimpleImputer(strategy='constant', fill_value='Missing')\n",
        "# df['Age'] = imputer_age_constant.fit_transform(df[['Age']])\n",
        "# df['Embarked'] = imputer_embarked_constant.fit_transform(df[['Embarked']]).ravel()\n",
        "\n",
        "# Missing value imputation with median (Scores after some OneHotEncoder conversion: Mean = 0.7857, Std = 0.0184)\n",
        "# imputer_age_median = SimpleImputer(strategy='median')\n",
        "# imputer_embarked_median = SimpleImputer(strategy='most_frequent')\n",
        "# df['Age'] = imputer_age_median.fit_transform(df[['Age']])\n",
        "# df['Embarked'] = imputer_embarked_median.fit_transform(df[['Embarked']]).ravel()\n",
        "\n",
        "# Missing value imputation with mean (Scores after some OneHotEncoder conversion: Mean = 0.7868, Std = 0.0176)\n",
        "imputer_age_mean = SimpleImputer(strategy='mean')\n",
        "imputer_embarked_mean = SimpleImputer(strategy='most_frequent')\n",
        "df['Age'] = imputer_age_mean.fit_transform(df[['Age']])\n",
        "df['Embarked'] = imputer_embarked_mean.fit_transform(df[['Embarked']]).ravel()\n",
        "\n",
        "# Drop rows with missing values directly (Scores after some OneHotEncoder conversion: Mean = 0.7851, Std = 0.0310)\n",
        "# df = df.dropna()\n",
        "\n",
        "### Feature Creating\n",
        "# Clip the first English character of the Cabin value as a new categorical feature\n",
        "df['Cabin_Category'] = df['Cabin'].str[0]\n",
        "\n",
        "# Create Family-Size as a new numerical feature\n",
        "df['Family_Size'] = df['SibSp'] + df['Parch'] + 1\n",
        "\n",
        "df.drop(['Cabin', 'SibSp', 'Parch'], axis=1, inplace=True)\n",
        "\n",
        "\n",
        "### Comparison of Converting Non-numeric Columns to LabelEncoder and OneHotEncoder\n",
        "# LabelEncoder Method (Scores after mean imputation: Mean = 0.7867, Std = 0.0148)\n",
        "# label_encoders = {}\n",
        "# for column in ['Sex', 'Embarked', 'Cabin_Category']:\n",
        "#     le = LabelEncoder()\n",
        "#     df[column] = le.fit_transform(df[column].astype(str))\n",
        "#     label_encoders[column] = le\n",
        "\n",
        "# OneHotEncoder Method (Scores after mean imputation: Mean = 0.7924, Std = 0.0140)\n",
        "df = pd.get_dummies(df, columns=['Sex', 'Embarked', 'Cabin_Category'],  dtype=int)\n",
        "\n",
        "df_train = df\n",
        "\n",
        "columns_X = list(set(df.columns) - {'Survived'})\n",
        "columns_y = ['Survived']\n",
        "\n",
        "train_X = df_train[columns_X]\n",
        "train_y = df_train[columns_y]\n",
        "\n",
        "\n",
        "from sklearn.linear_model import LogisticRegression\n",
        "from sklearn.model_selection import cross_val_score\n",
        "\n",
        "\n",
        "log = LogisticRegression(random_state=0, max_iter=3000)\n",
        "scores = cross_val_score(log, train_X, train_y.values.ravel(),cv=5,scoring='accuracy')\n",
        "print(scores)\n",
        "import numpy as np\n",
        "print(f\"Scores: Mean = {np.mean(scores):.4f}, Std = {np.std(scores):.4f}\")\n"
      ]
    },
    {
      "cell_type": "code",
      "source": [],
      "metadata": {
        "id": "ZaZa2VPsx4L1"
      },
      "execution_count": null,
      "outputs": []
    }
  ]
}